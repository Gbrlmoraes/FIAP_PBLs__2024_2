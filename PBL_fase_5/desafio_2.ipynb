{
 "cells": [
  {
   "cell_type": "code",
   "execution_count": 1,
   "metadata": {},
   "outputs": [],
   "source": [
    "import pandas as pd"
   ]
  },
  {
   "cell_type": "code",
   "execution_count": 2,
   "metadata": {},
   "outputs": [
    {
     "data": {
      "text/html": [
       "<div>\n",
       "<style scoped>\n",
       "    .dataframe tbody tr th:only-of-type {\n",
       "        vertical-align: middle;\n",
       "    }\n",
       "\n",
       "    .dataframe tbody tr th {\n",
       "        vertical-align: top;\n",
       "    }\n",
       "\n",
       "    .dataframe thead th {\n",
       "        text-align: right;\n",
       "    }\n",
       "</style>\n",
       "<table border=\"1\" class=\"dataframe\">\n",
       "  <thead>\n",
       "    <tr style=\"text-align: right;\">\n",
       "      <th></th>\n",
       "      <th>cod_pedido</th>\n",
       "      <th>regiao_pais</th>\n",
       "      <th>produto</th>\n",
       "      <th>valor</th>\n",
       "      <th>quantidade</th>\n",
       "      <th>valor_total_bruto</th>\n",
       "      <th>data</th>\n",
       "      <th>estado</th>\n",
       "      <th>formapagto</th>\n",
       "      <th>centro_distribuicao</th>\n",
       "      <th>responsavelpedido</th>\n",
       "      <th>valor_comissao</th>\n",
       "      <th>lucro_liquido</th>\n",
       "      <th>categoriaprod</th>\n",
       "    </tr>\n",
       "  </thead>\n",
       "  <tbody>\n",
       "    <tr>\n",
       "      <th>0</th>\n",
       "      <td>50284</td>\n",
       "      <td>Norte</td>\n",
       "      <td>Biscoito  True Champion 300g</td>\n",
       "      <td>24.64</td>\n",
       "      <td>2</td>\n",
       "      <td>49.28</td>\n",
       "      <td>2020-03-12</td>\n",
       "      <td>Acre</td>\n",
       "      <td>Cartão Crédito</td>\n",
       "      <td>Rapid Pink</td>\n",
       "      <td>Carlos</td>\n",
       "      <td>1.76</td>\n",
       "      <td>26.4</td>\n",
       "      <td>Alimentação</td>\n",
       "    </tr>\n",
       "    <tr>\n",
       "      <th>1</th>\n",
       "      <td>50285</td>\n",
       "      <td>Norte</td>\n",
       "      <td>Biscoito  True Champion 300g</td>\n",
       "      <td>23.52</td>\n",
       "      <td>2</td>\n",
       "      <td>47.04</td>\n",
       "      <td>2020-04-10</td>\n",
       "      <td>Amapá</td>\n",
       "      <td>Cartão Crédito</td>\n",
       "      <td>Rapid Pink</td>\n",
       "      <td>Maria Linda</td>\n",
       "      <td>1.68</td>\n",
       "      <td>25.2</td>\n",
       "      <td>Alimentação</td>\n",
       "    </tr>\n",
       "    <tr>\n",
       "      <th>2</th>\n",
       "      <td>50286</td>\n",
       "      <td>Norte</td>\n",
       "      <td>Biscoito  True Champion 300g</td>\n",
       "      <td>24.64</td>\n",
       "      <td>4</td>\n",
       "      <td>98.56</td>\n",
       "      <td>2020-08-07</td>\n",
       "      <td>Pará</td>\n",
       "      <td>Dinheiro</td>\n",
       "      <td>Rapid Pink</td>\n",
       "      <td>Julia</td>\n",
       "      <td>3.52</td>\n",
       "      <td>52.8</td>\n",
       "      <td>Alimentação</td>\n",
       "    </tr>\n",
       "    <tr>\n",
       "      <th>3</th>\n",
       "      <td>50287</td>\n",
       "      <td>Norte</td>\n",
       "      <td>Biscoito  True Champion 300g</td>\n",
       "      <td>21.28</td>\n",
       "      <td>4</td>\n",
       "      <td>85.12</td>\n",
       "      <td>2020-01-10</td>\n",
       "      <td>Rondônia</td>\n",
       "      <td>Pix</td>\n",
       "      <td>Rapid Pink</td>\n",
       "      <td>Yuri</td>\n",
       "      <td>3.04</td>\n",
       "      <td>45.6</td>\n",
       "      <td>Alimentação</td>\n",
       "    </tr>\n",
       "    <tr>\n",
       "      <th>4</th>\n",
       "      <td>50288</td>\n",
       "      <td>Norte</td>\n",
       "      <td>Biscoito  True Champion 300g</td>\n",
       "      <td>24.64</td>\n",
       "      <td>NaN</td>\n",
       "      <td>49.28</td>\n",
       "      <td>2020-04-11</td>\n",
       "      <td>Tocantins</td>\n",
       "      <td>Cartão Crédito</td>\n",
       "      <td>Rapid Pink</td>\n",
       "      <td>Dolores</td>\n",
       "      <td>1.76</td>\n",
       "      <td>26.4</td>\n",
       "      <td>Alimentação</td>\n",
       "    </tr>\n",
       "  </tbody>\n",
       "</table>\n",
       "</div>"
      ],
      "text/plain": [
       "   cod_pedido regiao_pais                       produto  valor quantidade  \\\n",
       "0       50284       Norte  Biscoito  True Champion 300g  24.64          2   \n",
       "1       50285       Norte  Biscoito  True Champion 300g  23.52          2   \n",
       "2       50286       Norte  Biscoito  True Champion 300g  24.64          4   \n",
       "3       50287       Norte  Biscoito  True Champion 300g  21.28          4   \n",
       "4       50288       Norte  Biscoito  True Champion 300g  24.64        NaN   \n",
       "\n",
       "  valor_total_bruto       data     estado      formapagto centro_distribuicao  \\\n",
       "0             49.28 2020-03-12       Acre  Cartão Crédito          Rapid Pink   \n",
       "1             47.04 2020-04-10      Amapá  Cartão Crédito          Rapid Pink   \n",
       "2             98.56 2020-08-07       Pará        Dinheiro          Rapid Pink   \n",
       "3             85.12 2020-01-10   Rondônia             Pix          Rapid Pink   \n",
       "4             49.28 2020-04-11  Tocantins  Cartão Crédito          Rapid Pink   \n",
       "\n",
       "  responsavelpedido valor_comissao lucro_liquido categoriaprod  \n",
       "0            Carlos           1.76          26.4   Alimentação  \n",
       "1       Maria Linda           1.68          25.2   Alimentação  \n",
       "2             Julia           3.52          52.8   Alimentação  \n",
       "3              Yuri           3.04          45.6   Alimentação  \n",
       "4           Dolores           1.76          26.4   Alimentação  "
      ]
     },
     "execution_count": 2,
     "metadata": {},
     "output_type": "execute_result"
    }
   ],
   "source": [
    "df = pd.read_excel(\n",
    "    '/home/gbrlmoraes/git_reps/FIAP_PBLs__2024_2/PBL_fase_5/dados/vendas_linha_petshop_2020_2024.xlsx'\n",
    ")\n",
    "df.head()"
   ]
  },
  {
   "cell_type": "code",
   "execution_count": 12,
   "metadata": {},
   "outputs": [],
   "source": [
    "def converte_pra_numero(valor):\n",
    "    try:\n",
    "        return float(valor)\n",
    "    except: \n",
    "        return None"
   ]
  },
  {
   "cell_type": "code",
   "execution_count": 13,
   "metadata": {},
   "outputs": [],
   "source": [
    "for coluna in ['valor', 'quantidade', 'valor_total_bruto', 'valor_comissao', 'lucro_liquido']:\n",
    "    df[coluna] = df[coluna].apply(converte_pra_numero).astype(float)"
   ]
  },
  {
   "cell_type": "code",
   "execution_count": 14,
   "metadata": {},
   "outputs": [
    {
     "name": "stdout",
     "output_type": "stream",
     "text": [
      "<class 'pandas.core.frame.DataFrame'>\n",
      "RangeIndex: 250059 entries, 0 to 250058\n",
      "Data columns (total 14 columns):\n",
      " #   Column               Non-Null Count   Dtype         \n",
      "---  ------               --------------   -----         \n",
      " 0   cod_pedido           250059 non-null  int64         \n",
      " 1   regiao_pais          250059 non-null  object        \n",
      " 2   produto              250059 non-null  object        \n",
      " 3   valor                250058 non-null  float64       \n",
      " 4   quantidade           249560 non-null  float64       \n",
      " 5   valor_total_bruto    250038 non-null  float64       \n",
      " 6   data                 250059 non-null  datetime64[ns]\n",
      " 7   estado               250059 non-null  object        \n",
      " 8   formapagto           250059 non-null  object        \n",
      " 9   centro_distribuicao  250059 non-null  object        \n",
      " 10  responsavelpedido    250059 non-null  object        \n",
      " 11  valor_comissao       250038 non-null  float64       \n",
      " 12  lucro_liquido        250038 non-null  float64       \n",
      " 13  categoriaprod        250059 non-null  object        \n",
      "dtypes: datetime64[ns](1), float64(5), int64(1), object(7)\n",
      "memory usage: 26.7+ MB\n"
     ]
    }
   ],
   "source": [
    "df.info()"
   ]
  },
  {
   "cell_type": "code",
   "execution_count": 17,
   "metadata": {},
   "outputs": [],
   "source": [
    "import seaborn as sns"
   ]
  },
  {
   "cell_type": "code",
   "execution_count": 21,
   "metadata": {},
   "outputs": [
    {
     "data": {
      "text/plain": [
       "<Axes: xlabel='lucro_liquido'>"
      ]
     },
     "execution_count": 21,
     "metadata": {},
     "output_type": "execute_result"
    },
    {
     "data": {
      "image/png": "[encoded data removed]",
      "text/plain": [
       "<Figure size 640x480 with 1 Axes>"
      ]
     },
     "metadata": {},
     "output_type": "display_data"
    }
   ],
   "source": [
    "sns.boxplot(\n",
    "    x = 'lucro_liquido',\n",
    "    data = df\n",
    ")"
   ]
  },
  {
   "cell_type": "code",
   "execution_count": 22,
   "metadata": {},
   "outputs": [],
   "source": [
    "import numpy as np"
   ]
  },
  {
   "cell_type": "code",
   "execution_count": 24,
   "metadata": {},
   "outputs": [
    {
     "data": {
      "text/html": [
       "<div>\n",
       "<style scoped>\n",
       "    .dataframe tbody tr th:only-of-type {\n",
       "        vertical-align: middle;\n",
       "    }\n",
       "\n",
       "    .dataframe tbody tr th {\n",
       "        vertical-align: top;\n",
       "    }\n",
       "\n",
       "    .dataframe thead th {\n",
       "        text-align: right;\n",
       "    }\n",
       "</style>\n",
       "<table border=\"1\" class=\"dataframe\">\n",
       "  <thead>\n",
       "    <tr style=\"text-align: right;\">\n",
       "      <th></th>\n",
       "      <th>valor</th>\n",
       "      <th>quantidade</th>\n",
       "      <th>valor_total_bruto</th>\n",
       "      <th>valor_comissao</th>\n",
       "      <th>lucro_liquido</th>\n",
       "    </tr>\n",
       "  </thead>\n",
       "  <tbody>\n",
       "    <tr>\n",
       "      <th>count</th>\n",
       "      <td>250058.000000</td>\n",
       "      <td>249560.000000</td>\n",
       "      <td>250038.000000</td>\n",
       "      <td>250038.000000</td>\n",
       "      <td>250038.000000</td>\n",
       "    </tr>\n",
       "    <tr>\n",
       "      <th>mean</th>\n",
       "      <td>97.791114</td>\n",
       "      <td>3.576491</td>\n",
       "      <td>380.915749</td>\n",
       "      <td>14.385344</td>\n",
       "      <td>146.921062</td>\n",
       "    </tr>\n",
       "    <tr>\n",
       "      <th>std</th>\n",
       "      <td>190.639091</td>\n",
       "      <td>11.652324</td>\n",
       "      <td>5253.065536</td>\n",
       "      <td>204.275255</td>\n",
       "      <td>2223.081631</td>\n",
       "    </tr>\n",
       "    <tr>\n",
       "      <th>min</th>\n",
       "      <td>-9887.000000</td>\n",
       "      <td>-1000.000000</td>\n",
       "      <td>-193700.000000</td>\n",
       "      <td>-3115.350000</td>\n",
       "      <td>-49845.600000</td>\n",
       "    </tr>\n",
       "    <tr>\n",
       "      <th>25%</th>\n",
       "      <td>24.000000</td>\n",
       "      <td>1.000000</td>\n",
       "      <td>39.000000</td>\n",
       "      <td>0.780000</td>\n",
       "      <td>18.000000</td>\n",
       "    </tr>\n",
       "    <tr>\n",
       "      <th>50%</th>\n",
       "      <td>38.570000</td>\n",
       "      <td>2.000000</td>\n",
       "      <td>75.040000</td>\n",
       "      <td>1.690000</td>\n",
       "      <td>33.600000</td>\n",
       "    </tr>\n",
       "    <tr>\n",
       "      <th>75%</th>\n",
       "      <td>74.000000</td>\n",
       "      <td>3.000000</td>\n",
       "      <td>148.000000</td>\n",
       "      <td>4.360000</td>\n",
       "      <td>77.380000</td>\n",
       "    </tr>\n",
       "    <tr>\n",
       "      <th>max</th>\n",
       "      <td>2500.000000</td>\n",
       "      <td>1000.000000</td>\n",
       "      <td>879789.000000</td>\n",
       "      <td>31741.710000</td>\n",
       "      <td>454053.600000</td>\n",
       "    </tr>\n",
       "  </tbody>\n",
       "</table>\n",
       "</div>"
      ],
      "text/plain": [
       "               valor     quantidade  valor_total_bruto  valor_comissao  \\\n",
       "count  250058.000000  249560.000000      250038.000000   250038.000000   \n",
       "mean       97.791114       3.576491         380.915749       14.385344   \n",
       "std       190.639091      11.652324        5253.065536      204.275255   \n",
       "min     -9887.000000   -1000.000000     -193700.000000    -3115.350000   \n",
       "25%        24.000000       1.000000          39.000000        0.780000   \n",
       "50%        38.570000       2.000000          75.040000        1.690000   \n",
       "75%        74.000000       3.000000         148.000000        4.360000   \n",
       "max      2500.000000    1000.000000      879789.000000    31741.710000   \n",
       "\n",
       "       lucro_liquido  \n",
       "count  250038.000000  \n",
       "mean      146.921062  \n",
       "std      2223.081631  \n",
       "min    -49845.600000  \n",
       "25%        18.000000  \n",
       "50%        33.600000  \n",
       "75%        77.380000  \n",
       "max    454053.600000  "
      ]
     },
     "execution_count": 24,
     "metadata": {},
     "output_type": "execute_result"
    }
   ],
   "source": [
    "df[['valor', 'quantidade', 'valor_total_bruto', 'valor_comissao', 'lucro_liquido']].describe()"
   ]
  }
 ],
 "metadata": {
  "kernelspec": {
   "display_name": ".venv",
   "language": "python",
   "name": "python3"
  },
  "language_info": {
   "codemirror_mode": {
    "name": "ipython",
    "version": 3
   },
   "file_extension": ".py",
   "mimetype": "text/x-python",
   "name": "python",
   "nbconvert_exporter": "python",
   "pygments_lexer": "ipython3",
   "version": "3.12.3"
  }
 },
 "nbformat": 4,
 "nbformat_minor": 2
}
